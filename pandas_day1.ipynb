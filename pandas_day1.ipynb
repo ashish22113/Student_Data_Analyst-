{
 "cells": [
  {
   "cell_type": "markdown",
   "id": "fef90093-3be6-4116-8766-16bccffd82e5",
   "metadata": {},
   "source": [
    "# creating data frame"
   ]
  },
  {
   "cell_type": "code",
   "execution_count": 1,
   "id": "d9db87b7-cb23-44cb-bca4-488e6d724298",
   "metadata": {},
   "outputs": [],
   "source": [
    "import pandas as pd"
   ]
  },
  {
   "cell_type": "code",
   "execution_count": 2,
   "id": "10476c2b-ef4c-4cea-b35c-29e672455f97",
   "metadata": {},
   "outputs": [
    {
     "name": "stdout",
     "output_type": "stream",
     "text": [
      "Empty DataFrame\n",
      "Columns: []\n",
      "Index: []\n"
     ]
    }
   ],
   "source": [
    "\n",
    "df = pd.DataFrame() # creating empty data frame\n",
    "print(df)"
   ]
  },
  {
   "cell_type": "code",
   "execution_count": 5,
   "id": "bb5eb422-eac4-4347-8d9e-b8a60cc96bfc",
   "metadata": {},
   "outputs": [
    {
     "name": "stdout",
     "output_type": "stream",
     "text": [
      "   numbers\n",
      "0       10\n",
      "1       20\n",
      "2       30\n",
      "3       40\n",
      "4       50\n"
     ]
    }
   ],
   "source": [
    "l1 = [10,20,30,40,50] # create a data frame bys using single list\n",
    "df = pd.DataFrame(l1,columns=[\"numbers\"]) \n",
    "print(df)"
   ]
  },
  {
   "cell_type": "code",
   "execution_count": 7,
   "id": "879b9b94-2966-4411-9f69-e96f1c1b19e2",
   "metadata": {},
   "outputs": [
    {
     "name": "stdout",
     "output_type": "stream",
     "text": [
      "    no   name  course\n",
      "r1   1  veena  python\n",
      "r2   2   raja    java\n",
      "r3   3  seeta      c#\n"
     ]
    }
   ],
   "source": [
    "d1 = {\n",
    "    \"no\":[1,2,3],\n",
    "    \"name\":[\"veena\",\"raja\",\"seeta\"],\n",
    "    \"course\":[\"python\",\"java\",\"c#\"]\n",
    "}\n",
    "df2 = pd.DataFrame(d1,index=[\"r1\",\"r2\",\"r3\"])\n",
    "print(df2)"
   ]
  },
  {
   "cell_type": "code",
   "execution_count": 9,
   "id": "ec8a0dc4-49e1-4cd4-a8b9-ce113855d6e1",
   "metadata": {},
   "outputs": [
    {
     "name": "stdout",
     "output_type": "stream",
     "text": [
      "   Id     Name  Score\n",
      "0   1      raj     20\n",
      "1   2    sujay     30\n",
      "2   3  vignesh     25\n"
     ]
    }
   ],
   "source": [
    "nested_list = [\n",
    "    [1,\"raj\",20],\n",
    "    [2,\"sujay\",30],\n",
    "    [3,'vignesh',25]\n",
    "]\n",
    "df3 = pd.DataFrame(nested_list,columns=[\"Id\",\"Name\",\"Score\"])\n",
    "print(df3)"
   ]
  },
  {
   "cell_type": "code",
   "execution_count": 23,
   "id": "5aea2c91-1d8b-42bb-b36d-b825a4aa64ce",
   "metadata": {},
   "outputs": [
    {
     "name": "stdout",
     "output_type": "stream",
     "text": [
      "      battery_power  clock_speed  dual_sim  n_cores   ram  wifi  price_range\n",
      "0               842          2.2         0      NaN  2549     1            1\n",
      "1              1021          0.5         1      NaN  2631     0            2\n",
      "2               563          0.5         1      NaN  2603     0            2\n",
      "3               615          2.5         0      6.0  2769     0            2\n",
      "4              1821          1.2         0      2.0  1411     0            1\n",
      "...             ...          ...       ...      ...   ...   ...          ...\n",
      "1995            794          0.5         1      6.0   668     0            0\n",
      "1996           1965          2.6         1      4.0  2032     1            2\n",
      "1997           1911          0.9         1      8.0  3057     0            3\n",
      "1998           1512          0.9         0      5.0   869     1            0\n",
      "1999            510          2.0         1      6.0  3919     1            3\n",
      "\n",
      "[2000 rows x 7 columns]\n"
     ]
    }
   ],
   "source": [
    "df4 = pd.read_csv(\"mobiledataset.csv\")\n",
    "print(df4)"
   ]
  },
  {
   "cell_type": "code",
   "execution_count": 12,
   "id": "4f7f341e-d1e4-4b67-bb32-805cc7a40143",
   "metadata": {},
   "outputs": [
    {
     "name": "stdout",
     "output_type": "stream",
     "text": [
      "(2000, 7)\n"
     ]
    }
   ],
   "source": [
    "print(df4.shape)"
   ]
  },
  {
   "cell_type": "code",
   "execution_count": 13,
   "id": "2b8ba5d2-21c2-4f39-b8cf-b91f6d32e61b",
   "metadata": {},
   "outputs": [
    {
     "name": "stdout",
     "output_type": "stream",
     "text": [
      "   battery_power  clock_speed  dual_sim  n_cores   ram  wifi  price_range\n",
      "0            842          2.2         0      NaN  2549     1            1\n",
      "1           1021          0.5         1      NaN  2631     0            2\n",
      "2            563          0.5         1      NaN  2603     0            2\n",
      "3            615          2.5         0      6.0  2769     0            2\n",
      "4           1821          1.2         0      2.0  1411     0            1\n"
     ]
    }
   ],
   "source": [
    "print(df4.head())"
   ]
  },
  {
   "cell_type": "code",
   "execution_count": 14,
   "id": "790ce36e-7825-45fa-8377-82350aeb3165",
   "metadata": {},
   "outputs": [
    {
     "name": "stdout",
     "output_type": "stream",
     "text": [
      "      battery_power  clock_speed  dual_sim  n_cores   ram  wifi  price_range\n",
      "1995            794          0.5         1      6.0   668     0            0\n",
      "1996           1965          2.6         1      4.0  2032     1            2\n",
      "1997           1911          0.9         1      8.0  3057     0            3\n",
      "1998           1512          0.9         0      5.0   869     1            0\n",
      "1999            510          2.0         1      6.0  3919     1            3\n"
     ]
    }
   ],
   "source": [
    "print(df4.tail())"
   ]
  },
  {
   "cell_type": "code",
   "execution_count": 20,
   "id": "9fdbf4ef-6ffb-47b7-896e-a63c227e8f46",
   "metadata": {},
   "outputs": [
    {
     "name": "stdout",
     "output_type": "stream",
     "text": [
      "    battery_power  clock_speed  dual_sim  n_cores   ram  wifi  price_range\n",
      "0             842          2.2         0      NaN  2549     1            1\n",
      "1            1021          0.5         1      NaN  2631     0            2\n",
      "2             563          0.5         1      NaN  2603     0            2\n",
      "3             615          2.5         0      6.0  2769     0            2\n",
      "4            1821          1.2         0      2.0  1411     0            1\n",
      "5            1859          0.5         1      1.0  1067     0            1\n",
      "6            1821          1.7         0      8.0  3220     1            3\n",
      "7            1954          0.5         1      4.0   700     1            0\n",
      "8            1445          0.5         0      7.0  1099     0            0\n",
      "9             509          0.6         1      5.0   513     0            0\n",
      "10            769          2.9         1      5.0  3946     0            3\n",
      "11           1520          2.2         0      8.0  3826     1            3\n",
      "12           1815          2.8         0      4.0  1482     0            1\n",
      "13            803          2.1         0      4.0  2680     1            2\n",
      "14           1866          0.5         0      1.0   373     1            0\n",
      "15            775          1.0         0      2.0   568     1            0\n",
      "16            838          0.5         0      8.0  3554     1            3\n",
      "17            595          0.9         1      3.0  3752     0            3\n",
      "18           1131          0.5         1      5.0  1835     0            1\n",
      "19            682          0.5         0      4.0  2337     1            1\n",
      "20            772          1.1         1      7.0  2819     0            3\n",
      "21           1709          2.1         0      2.0  3283     0            3\n",
      "22           1949          2.6         1      4.0  1433     1            1\n",
      "23           1602          2.8         1      3.0  1037     0            0\n",
      "24            503          1.2         1      3.0  2583     0            1\n",
      "25            961          1.4         1      8.0  2782     1            2\n",
      "26            519          1.6         1      4.0  3763     1            3\n",
      "27            956          0.5         0      7.0  3286     0            3\n",
      "28           1453          1.6         1      2.0  2373     1            2\n",
      "29            851          0.5         0      5.0   478     1            0\n",
      "30           1579          0.5         1      7.0  3532     1            3\n",
      "31           1568          0.5         0      8.0   508     1            0\n",
      "32           1319          0.9         0      1.0  2227     1            1\n",
      "33           1310          2.2         1      4.0  3845     0            3\n",
      "34            644          2.7         0      8.0  1262     0            0\n",
      "35            725          1.3         1      8.0  1326     0            1\n",
      "36            589          2.3         1      4.0  2113     1            1\n",
      "37           1725          1.6         1      2.0  3429     0            3\n",
      "38            790          2.0         1      6.0  3169     1            2\n",
      "39            560          0.5         1      2.0  2150     0            2\n",
      "40           1347          2.9         0      1.0  2484     1            2\n",
      "41           1646          2.3         0      2.0  3339     0            3\n",
      "42           1253          0.5         1      2.0  1878     0            1\n",
      "43           1656          1.0         0      3.0  1629     0            1\n",
      "44           1195          2.8         0      2.0   504     0            0\n",
      "45           1514          2.9         0      3.0  1152     1            1\n",
      "46           1723          1.1         1      8.0  3587     0            3\n",
      "47           1054          1.8         1      7.0  2296     1            1\n",
      "48            578          2.6         1      8.0  1270     1            0\n",
      "49            596          2.1         1      8.0  3238     0            3\n"
     ]
    }
   ],
   "source": [
    "print(df4.head(50))"
   ]
  },
  {
   "cell_type": "code",
   "execution_count": 21,
   "id": "ba17b06b-bd8c-4c7e-a498-009b5a5be174",
   "metadata": {},
   "outputs": [
    {
     "name": "stdout",
     "output_type": "stream",
     "text": [
      "<class 'pandas.core.frame.DataFrame'>\n",
      "RangeIndex: 2000 entries, 0 to 1999\n",
      "Data columns (total 7 columns):\n",
      " #   Column         Non-Null Count  Dtype  \n",
      "---  ------         --------------  -----  \n",
      " 0   battery_power  2000 non-null   int64  \n",
      " 1   clock_speed    2000 non-null   float64\n",
      " 2   dual_sim       2000 non-null   int64  \n",
      " 3   n_cores        1997 non-null   float64\n",
      " 4   ram            2000 non-null   int64  \n",
      " 5   wifi           2000 non-null   int64  \n",
      " 6   price_range    2000 non-null   int64  \n",
      "dtypes: float64(2), int64(5)\n",
      "memory usage: 109.5 KB\n",
      "None\n"
     ]
    }
   ],
   "source": [
    "print(df4.info())"
   ]
  },
  {
   "cell_type": "code",
   "execution_count": null,
   "id": "ec678320-8654-46e6-988b-71e5a4ecd30c",
   "metadata": {},
   "outputs": [],
   "source": []
  }
 ],
 "metadata": {
  "kernelspec": {
   "display_name": "Python 3 (ipykernel)",
   "language": "python",
   "name": "python3"
  },
  "language_info": {
   "codemirror_mode": {
    "name": "ipython",
    "version": 3
   },
   "file_extension": ".py",
   "mimetype": "text/x-python",
   "name": "python",
   "nbconvert_exporter": "python",
   "pygments_lexer": "ipython3",
   "version": "3.9.8"
  }
 },
 "nbformat": 4,
 "nbformat_minor": 5
}
