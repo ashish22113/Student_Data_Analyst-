{
 "cells": [
  {
   "cell_type": "markdown",
   "id": "9cf379ea-05d4-41a2-82b0-46a722103ac8",
   "metadata": {},
   "source": [
    "# arithmetic operations with arrays "
   ]
  },
  {
   "cell_type": "code",
   "execution_count": 1,
   "id": "7797bcd8-010b-4c4c-b3b6-bf98bca8754c",
   "metadata": {},
   "outputs": [],
   "source": [
    "import numpy as np"
   ]
  },
  {
   "cell_type": "code",
   "execution_count": 3,
   "id": "a708c2dd-e44b-439a-b6b0-c93e87055dfd",
   "metadata": {},
   "outputs": [
    {
     "name": "stdout",
     "output_type": "stream",
     "text": [
      "[[1 2 3]\n",
      " [4 5 6]\n",
      " [7 8 9]]\n"
     ]
    }
   ],
   "source": [
    "a = np.arange(1,10).reshape(3,3)\n",
    "print(a)"
   ]
  },
  {
   "cell_type": "code",
   "execution_count": 4,
   "id": "e502d0d0-313b-4654-8bc9-07a2d8fd8bc6",
   "metadata": {},
   "outputs": [
    {
     "name": "stdout",
     "output_type": "stream",
     "text": [
      "[[11 12 13]\n",
      " [14 15 16]\n",
      " [17 18 19]]\n"
     ]
    }
   ],
   "source": [
    "b = np.arange(11,20).reshape(3,3)\n",
    "print(b)"
   ]
  },
  {
   "cell_type": "code",
   "execution_count": 5,
   "id": "584c2d97-2689-480c-a2d3-64457520f73e",
   "metadata": {},
   "outputs": [
    {
     "name": "stdout",
     "output_type": "stream",
     "text": [
      "[[12 14 16]\n",
      " [18 20 22]\n",
      " [24 26 28]]\n"
     ]
    }
   ],
   "source": [
    "print(a+b)"
   ]
  },
  {
   "cell_type": "code",
   "execution_count": 6,
   "id": "8dc1c774-7ac7-4d3a-8821-304417107af9",
   "metadata": {},
   "outputs": [
    {
     "name": "stdout",
     "output_type": "stream",
     "text": [
      "[[10 10 10]\n",
      " [10 10 10]\n",
      " [10 10 10]]\n"
     ]
    }
   ],
   "source": [
    "print(b-a)"
   ]
  },
  {
   "cell_type": "code",
   "execution_count": 7,
   "id": "233da5e3-e864-491a-bae8-41f032027bda",
   "metadata": {},
   "outputs": [
    {
     "name": "stdout",
     "output_type": "stream",
     "text": [
      "[[ 11  24  39]\n",
      " [ 56  75  96]\n",
      " [119 144 171]]\n"
     ]
    }
   ],
   "source": [
    "print(a*b)"
   ]
  },
  {
   "cell_type": "markdown",
   "id": "5c4cd121-f5fc-4f4d-9751-b165d4a63c5d",
   "metadata": {},
   "source": [
    "# generating random numbers "
   ]
  },
  {
   "cell_type": "code",
   "execution_count": 10,
   "id": "f44a4a05-9635-4c6e-bf7b-a69e38699393",
   "metadata": {},
   "outputs": [
    {
     "name": "stdout",
     "output_type": "stream",
     "text": [
      "[ 3 19 17  6 10  5 13 17  3 11]\n"
     ]
    }
   ],
   "source": [
    "x = np.random.randint(1,20,10) # from numpy library from random module import rand int function\n",
    "print(x)"
   ]
  },
  {
   "cell_type": "code",
   "execution_count": 11,
   "id": "54974193-6ea4-4a30-b632-9238180c3c41",
   "metadata": {},
   "outputs": [
    {
     "name": "stdout",
     "output_type": "stream",
     "text": [
      "19\n"
     ]
    }
   ],
   "source": [
    "print(np.max(x))"
   ]
  },
  {
   "cell_type": "code",
   "execution_count": 12,
   "id": "fe8cf07c-a0ce-4741-aa54-d808e9e264e2",
   "metadata": {},
   "outputs": [
    {
     "name": "stdout",
     "output_type": "stream",
     "text": [
      "3\n"
     ]
    }
   ],
   "source": [
    "print(np.min(x))"
   ]
  },
  {
   "cell_type": "code",
   "execution_count": 13,
   "id": "e8c4bf2c-6f18-4602-b3e5-7c223e96cc8c",
   "metadata": {},
   "outputs": [
    {
     "name": "stdout",
     "output_type": "stream",
     "text": [
      "10.4\n"
     ]
    }
   ],
   "source": [
    "print(np.mean(x)) # sum of all elements in array / no of elements"
   ]
  },
  {
   "cell_type": "code",
   "execution_count": 14,
   "id": "2e8cad73-f5ff-48f8-bf09-fab43cf7c0ec",
   "metadata": {},
   "outputs": [
    {
     "name": "stdout",
     "output_type": "stream",
     "text": [
      "10.5\n"
     ]
    }
   ],
   "source": [
    "print(np.median(x)) # 3 3 5 6 10 11 13 17 17 19 "
   ]
  },
  {
   "cell_type": "code",
   "execution_count": 15,
   "id": "c22b7b1f-f63e-4066-8990-498d065d7098",
   "metadata": {},
   "outputs": [
    {
     "name": "stdout",
     "output_type": "stream",
     "text": [
      "1\n"
     ]
    }
   ],
   "source": [
    "print(np.argmax(x))"
   ]
  },
  {
   "cell_type": "code",
   "execution_count": 16,
   "id": "efaf15bb-e92c-4c8a-9147-9ff0450a96c2",
   "metadata": {},
   "outputs": [
    {
     "name": "stdout",
     "output_type": "stream",
     "text": [
      "0\n"
     ]
    }
   ],
   "source": [
    "print(np.argmin(x))"
   ]
  },
  {
   "cell_type": "markdown",
   "id": "db336332-50b5-45e6-9621-8ac3ca6e1272",
   "metadata": {},
   "source": [
    "# merging of arrays "
   ]
  },
  {
   "cell_type": "code",
   "execution_count": 17,
   "id": "74313c1b-4f1d-4898-ad9b-e5dea3276968",
   "metadata": {},
   "outputs": [
    {
     "name": "stdout",
     "output_type": "stream",
     "text": [
      "[[1 2 3]\n",
      " [4 5 6]\n",
      " [7 8 9]]\n"
     ]
    }
   ],
   "source": [
    "a = np.arange(1,10).reshape(3,3)\n",
    "print(a)"
   ]
  },
  {
   "cell_type": "code",
   "execution_count": 18,
   "id": "18896ab0-ca7d-438c-89b1-cb0a800f1738",
   "metadata": {},
   "outputs": [
    {
     "name": "stdout",
     "output_type": "stream",
     "text": [
      "[[11 12 13]\n",
      " [14 15 16]\n",
      " [17 18 19]]\n"
     ]
    }
   ],
   "source": [
    "b = np.arange(11,20).reshape(3,3)\n",
    "print(b)"
   ]
  },
  {
   "cell_type": "code",
   "execution_count": 19,
   "id": "6e192cdc-c0bd-44fc-9d3f-dcecfc59cc6a",
   "metadata": {},
   "outputs": [
    {
     "name": "stdout",
     "output_type": "stream",
     "text": [
      "[[ 1  2  3]\n",
      " [ 4  5  6]\n",
      " [ 7  8  9]\n",
      " [11 12 13]\n",
      " [14 15 16]\n",
      " [17 18 19]]\n"
     ]
    }
   ],
   "source": [
    "m1 = np.concatenate((a,b))\n",
    "print(m1)"
   ]
  },
  {
   "cell_type": "code",
   "execution_count": 20,
   "id": "4b4de269-58bf-4df3-85a8-3ea7d84e0c97",
   "metadata": {},
   "outputs": [
    {
     "name": "stdout",
     "output_type": "stream",
     "text": [
      "[[ 1  2  3 11 12 13]\n",
      " [ 4  5  6 14 15 16]\n",
      " [ 7  8  9 17 18 19]]\n"
     ]
    }
   ],
   "source": [
    "m2 = np.concatenate((a,b),axis=1) # axis 1 means row axis = 0 means column\n",
    "print(m2)"
   ]
  },
  {
   "cell_type": "code",
   "execution_count": 22,
   "id": "c018abdd-3f06-42b1-9e2d-4c713e2507ee",
   "metadata": {},
   "outputs": [
    {
     "name": "stdout",
     "output_type": "stream",
     "text": [
      "[[[ 1  2  3]\n",
      "  [ 4  5  6]\n",
      "  [ 7  8  9]]\n",
      "\n",
      " [[11 12 13]\n",
      "  [14 15 16]\n",
      "  [17 18 19]]]\n"
     ]
    }
   ],
   "source": [
    "b1 = np.stack((a,b))\n",
    "print(b1)"
   ]
  },
  {
   "cell_type": "code",
   "execution_count": 23,
   "id": "96b8e647-b216-4ede-8a2b-db718d1e5649",
   "metadata": {},
   "outputs": [
    {
     "name": "stdout",
     "output_type": "stream",
     "text": [
      "[[ 1  2  3 11 12 13]\n",
      " [ 4  5  6 14 15 16]\n",
      " [ 7  8  9 17 18 19]]\n"
     ]
    }
   ],
   "source": [
    "b2 = np.hstack((a,b))\n",
    "print(b2)"
   ]
  },
  {
   "cell_type": "code",
   "execution_count": 24,
   "id": "d5d93232-0425-40fb-87aa-37e53a094210",
   "metadata": {},
   "outputs": [
    {
     "name": "stdout",
     "output_type": "stream",
     "text": [
      "[[ 1  2  3]\n",
      " [ 4  5  6]\n",
      " [ 7  8  9]\n",
      " [11 12 13]\n",
      " [14 15 16]\n",
      " [17 18 19]]\n"
     ]
    }
   ],
   "source": [
    "b3 = np.vstack((a,b))\n",
    "print(b3)"
   ]
  },
  {
   "cell_type": "code",
   "execution_count": 25,
   "id": "a62da96b-242b-4f51-bf18-40b8653a5e18",
   "metadata": {},
   "outputs": [
    {
     "name": "stdout",
     "output_type": "stream",
     "text": [
      "[1 2 3]\n",
      "[4 5 6]\n",
      "[7 8 9]\n",
      "[11 12 13]\n",
      "[14 15 16]\n",
      "[17 18 19]\n"
     ]
    }
   ],
   "source": [
    "for i in b3:\n",
    "    print(i)"
   ]
  },
  {
   "cell_type": "code",
   "execution_count": 27,
   "id": "d46b8bde-7c79-4f17-bbcc-12c4105b4b54",
   "metadata": {},
   "outputs": [
    {
     "name": "stdout",
     "output_type": "stream",
     "text": [
      "1\n",
      "2\n",
      "3\n",
      "4\n",
      "5\n",
      "6\n",
      "7\n",
      "8\n",
      "9\n",
      "11\n",
      "12\n",
      "13\n",
      "14\n",
      "15\n",
      "16\n",
      "17\n",
      "18\n",
      "19\n"
     ]
    }
   ],
   "source": [
    "for i in b3:\n",
    "    for j in i:\n",
    "        print(j)"
   ]
  },
  {
   "cell_type": "code",
   "execution_count": null,
   "id": "bae76bcb-72ca-491a-b91a-c7dd01274ca4",
   "metadata": {},
   "outputs": [],
   "source": []
  }
 ],
 "metadata": {
  "kernelspec": {
   "display_name": "Python 3 (ipykernel)",
   "language": "python",
   "name": "python3"
  },
  "language_info": {
   "codemirror_mode": {
    "name": "ipython",
    "version": 3
   },
   "file_extension": ".py",
   "mimetype": "text/x-python",
   "name": "python",
   "nbconvert_exporter": "python",
   "pygments_lexer": "ipython3",
   "version": "3.9.8"
  }
 },
 "nbformat": 4,
 "nbformat_minor": 5
}
