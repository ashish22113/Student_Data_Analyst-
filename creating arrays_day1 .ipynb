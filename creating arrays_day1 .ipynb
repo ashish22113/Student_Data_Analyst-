{
 "cells": [
  {
   "cell_type": "markdown",
   "id": "554ca976-2947-44f0-b747-4b4ae90ba174",
   "metadata": {},
   "source": [
    "## creating arrays in different ways "
   ]
  },
  {
   "cell_type": "code",
   "execution_count": 3,
   "id": "2e2e6045-7377-4551-9df0-54abf8705d72",
   "metadata": {},
   "outputs": [],
   "source": [
    "import numpy as np"
   ]
  },
  {
   "cell_type": "code",
   "execution_count": 5,
   "id": "754b7360-396f-4ab3-afda-04b6356c6448",
   "metadata": {},
   "outputs": [
    {
     "name": "stdout",
     "output_type": "stream",
     "text": [
      "<class 'list'>\n"
     ]
    }
   ],
   "source": [
    "list1 = [1,2,3]\n",
    "print(type(list1))"
   ]
  },
  {
   "cell_type": "markdown",
   "id": "792cfe6f-f8e2-4584-a072-aae71a4a4c96",
   "metadata": {},
   "source": [
    "## converting list into numpy array"
   ]
  },
  {
   "cell_type": "code",
   "execution_count": 6,
   "id": "2ddd6175-5cbc-49fe-8b3d-9117f7c84985",
   "metadata": {},
   "outputs": [
    {
     "name": "stdout",
     "output_type": "stream",
     "text": [
      "[1 2 3]\n"
     ]
    }
   ],
   "source": [
    "arr1 = np.array(list1)\n",
    "print(arr1)"
   ]
  },
  {
   "cell_type": "code",
   "execution_count": 7,
   "id": "c4105c62-90c4-4375-bbab-6083dc5c1783",
   "metadata": {},
   "outputs": [],
   "source": [
    "## converting list into numpy array"
   ]
  },
  {
   "cell_type": "code",
   "execution_count": 8,
   "id": "e0215340-cc82-4fdf-8d62-e366be9f8070",
   "metadata": {},
   "outputs": [
    {
     "name": "stdout",
     "output_type": "stream",
     "text": [
      "[4 5 6]\n"
     ]
    }
   ],
   "source": [
    "t1 = (4,5,6)\n",
    "arr2 = np.array(t1)\n",
    "print(arr2)"
   ]
  },
  {
   "cell_type": "code",
   "execution_count": 9,
   "id": "dcd85fad-57d8-4cd1-b852-e0f0271f9f15",
   "metadata": {},
   "outputs": [
    {
     "name": "stdout",
     "output_type": "stream",
     "text": [
      "<class 'numpy.ndarray'>\n"
     ]
    }
   ],
   "source": [
    "print(type(arr2))"
   ]
  },
  {
   "cell_type": "code",
   "execution_count": 10,
   "id": "bcec6cea-2cd7-4bdf-9f28-dbfa7dd74d52",
   "metadata": {},
   "outputs": [
    {
     "name": "stdout",
     "output_type": "stream",
     "text": [
      "[1, 2, 3, 4, 5, 6, 7, 8, 9]\n"
     ]
    }
   ],
   "source": [
    "## creating array using arange function\n",
    "\n",
    "x = list(range(1,10))\n",
    "print(x)"
   ]
  },
  {
   "cell_type": "code",
   "execution_count": 11,
   "id": "dc5bad39-3b75-4a24-880b-692faa5673ac",
   "metadata": {},
   "outputs": [
    {
     "name": "stdout",
     "output_type": "stream",
     "text": [
      "[0 1 2 3 4 5 6 7 8 9]\n"
     ]
    }
   ],
   "source": [
    "arr3 = np.arange(10)\n",
    "print(arr3)"
   ]
  },
  {
   "cell_type": "code",
   "execution_count": 13,
   "id": "69d0fe72-9c49-4a61-ac40-86f6710cb75f",
   "metadata": {},
   "outputs": [
    {
     "name": "stdout",
     "output_type": "stream",
     "text": [
      "[1, 3, 5, 7, 9, 11, 13, 15, 17, 19, 21, 23, 25, 27, 29, 31, 33, 35, 37, 39, 41, 43, 45, 47, 49, 51, 53, 55, 57, 59, 61, 63, 65, 67, 69, 71, 73, 75, 77, 79, 81, 83, 85, 87, 89, 91, 93, 95, 97, 99]\n"
     ]
    }
   ],
   "source": [
    "y = list(range(1,100,2))\n",
    "print(y)"
   ]
  },
  {
   "cell_type": "code",
   "execution_count": 15,
   "id": "df29171d-8b7f-458e-abb5-217422e43a1c",
   "metadata": {},
   "outputs": [
    {
     "name": "stdout",
     "output_type": "stream",
     "text": [
      "[ 1.   3.5  6.   8.5 11.  13.5 16.  18.5 21.  23.5 26.  28.5 31.  33.5\n",
      " 36.  38.5 41.  43.5 46.  48.5 51.  53.5 56.  58.5 61.  63.5 66.  68.5\n",
      " 71.  73.5 76.  78.5 81.  83.5 86.  88.5 91.  93.5 96.  98.5]\n"
     ]
    }
   ],
   "source": [
    "arr4 = np.arange(1,100,2.5)\n",
    "print(arr4)\n"
   ]
  },
  {
   "cell_type": "code",
   "execution_count": 16,
   "id": "7b3ab7ab-cb89-4693-b6b6-e113499ac50b",
   "metadata": {},
   "outputs": [
    {
     "name": "stdout",
     "output_type": "stream",
     "text": [
      "[ 2.5  4.5  6.5  8.5 10.5 12.5 14.5 16.5 18.5 20.5 22.5 24.5 26.5 28.5\n",
      " 30.5 32.5 34.5 36.5 38.5 40.5 42.5 44.5 46.5 48.5 50.5 52.5 54.5 56.5\n",
      " 58.5 60.5 62.5 64.5 66.5 68.5 70.5 72.5 74.5 76.5 78.5 80.5 82.5 84.5\n",
      " 86.5 88.5 90.5 92.5 94.5 96.5 98.5]\n"
     ]
    }
   ],
   "source": [
    "arr5 = np.arange(2.5,100.5,2)\n",
    "print(arr5)"
   ]
  },
  {
   "cell_type": "markdown",
   "id": "f18a2fb3-083f-4fc8-aa63-2e7bdf646302",
   "metadata": {},
   "source": [
    "## creating array using linspace"
   ]
  },
  {
   "cell_type": "code",
   "execution_count": 19,
   "id": "65a3452e-87bd-4870-b79b-6f29a3ee400b",
   "metadata": {},
   "outputs": [
    {
     "name": "stdout",
     "output_type": "stream",
     "text": [
      "[ 1  2  3  4  5  6  7  8  9 10]\n"
     ]
    }
   ],
   "source": [
    "arr6 = np.linspace(1,10,10,dtype=int)\n",
    "print(arr6)"
   ]
  },
  {
   "cell_type": "markdown",
   "id": "1c71c550-e253-4a86-a7ff-a2f97fd3801d",
   "metadata": {},
   "source": [
    "# predefined functions : ndim,shape,reshape"
   ]
  },
  {
   "cell_type": "markdown",
   "id": "9aa9daa1-46f1-46ef-b65f-aff8b9310e06",
   "metadata": {},
   "source": [
    "##  ndim: it is an attribute which is used to find the dimensions of an array\n",
    "## shape: it is an atribute which is used to find shape of an array \n",
    "## reshape : it is an attribute which is used to change shape of a matrices "
   ]
  },
  {
   "cell_type": "code",
   "execution_count": 21,
   "id": "c4bab38b-aee6-4346-96e5-bbec12b92863",
   "metadata": {},
   "outputs": [
    {
     "name": "stdout",
     "output_type": "stream",
     "text": [
      "0\n"
     ]
    }
   ],
   "source": [
    "a1 = np.array(10)\n",
    "print(a1.ndim)"
   ]
  },
  {
   "cell_type": "code",
   "execution_count": 22,
   "id": "01610bb1-171b-4f96-ba3b-f6edefc9c3a1",
   "metadata": {},
   "outputs": [
    {
     "name": "stdout",
     "output_type": "stream",
     "text": [
      "1\n"
     ]
    }
   ],
   "source": [
    "a2 = np.array([10,20,30])\n",
    "print(a2.ndim)"
   ]
  },
  {
   "cell_type": "code",
   "execution_count": 23,
   "id": "8f6227d2-1c6d-4d30-ad98-0ed9c17a815c",
   "metadata": {},
   "outputs": [
    {
     "name": "stdout",
     "output_type": "stream",
     "text": [
      "[[1 2 3]\n",
      " [4 5 6]]\n"
     ]
    }
   ],
   "source": [
    "a3 = np.array([[1,2,3],[4,5,6]])\n",
    "print(a3)"
   ]
  },
  {
   "cell_type": "code",
   "execution_count": 24,
   "id": "5b90b7c9-0cc0-4148-831b-0dc49bd9ee53",
   "metadata": {},
   "outputs": [
    {
     "name": "stdout",
     "output_type": "stream",
     "text": [
      "2\n"
     ]
    }
   ],
   "source": [
    "print(a3.ndim)"
   ]
  },
  {
   "cell_type": "code",
   "execution_count": 25,
   "id": "2f5673ab-6484-4a5c-9958-5fb7703414fc",
   "metadata": {},
   "outputs": [
    {
     "name": "stdout",
     "output_type": "stream",
     "text": [
      "[[1 2 3]\n",
      " [4 5 6]]\n"
     ]
    }
   ],
   "source": [
    "a3 = np.array([[1,2,3],[4,5,6]])\n",
    "print(a3)"
   ]
  },
  {
   "cell_type": "code",
   "execution_count": 26,
   "id": "2e150a93-0d41-4871-a22a-3b07a4362004",
   "metadata": {},
   "outputs": [
    {
     "name": "stdout",
     "output_type": "stream",
     "text": [
      "(2, 3)\n"
     ]
    }
   ],
   "source": [
    "print(a3.shape)"
   ]
  },
  {
   "cell_type": "code",
   "execution_count": 33,
   "id": "94879d87-ce0c-493e-9777-023a1a94a74f",
   "metadata": {},
   "outputs": [
    {
     "name": "stdout",
     "output_type": "stream",
     "text": [
      "[[0 1]\n",
      " [2 3]\n",
      " [4 5]\n",
      " [6 7]\n",
      " [8 9]]\n"
     ]
    }
   ],
   "source": [
    "a4 = np.arange(10).reshape((5,2))\n",
    "print(a4)"
   ]
  },
  {
   "cell_type": "code",
   "execution_count": null,
   "id": "8b7adad9-6bc5-410c-914e-e2a6ceeabcea",
   "metadata": {},
   "outputs": [],
   "source": []
  }
 ],
 "metadata": {
  "kernelspec": {
   "display_name": "Python 3 (ipykernel)",
   "language": "python",
   "name": "python3"
  },
  "language_info": {
   "codemirror_mode": {
    "name": "ipython",
    "version": 3
   },
   "file_extension": ".py",
   "mimetype": "text/x-python",
   "name": "python",
   "nbconvert_exporter": "python",
   "pygments_lexer": "ipython3",
   "version": "3.9.8"
  }
 },
 "nbformat": 4,
 "nbformat_minor": 5
}
